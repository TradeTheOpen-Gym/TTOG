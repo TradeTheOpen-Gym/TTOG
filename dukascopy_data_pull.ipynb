{
 "cells": [
  {
   "cell_type": "code",
   "execution_count": 5,
   "metadata": {},
   "outputs": [
    {
     "data": {
      "image/png": "[encoded data removed]",
      "text/plain": [
       "<PIL.Image.Image image mode=RGB size=122x56>"
      ]
     },
     "execution_count": 5,
     "metadata": {},
     "output_type": "execute_result"
    }
   ],
   "source": [
    "import time\n",
    "import pyautogui\n",
    "import numpy as np\n",
    "from PIL import Image\n",
    "hi=94/6.\n",
    "wi=122/5.\n",
    "oldrow=-1.\n",
    "oldcol=-1.\n",
    "scrn=np.asarray(pyautogui.screenshot())\n",
    "save=scrn[1000:1056,836:958]\n",
    "Image.fromarray(save)"
   ]
  },
  {
   "cell_type": "code",
   "execution_count": 6,
   "metadata": {},
   "outputs": [
   ],
   "source": [
    "x, y =pyautogui.position()\n",
    "while True:\n",
    "    pyautogui.click(856,993)\n",
    "    pyautogui.moveTo(x, y, duration=0)\n",
    "    time.sleep(0.1)\n",
    "    while True:\n",
    "        try:\n",
    "            scrn=np.asarray(pyautogui.screenshot())\n",
    "            time.sleep(0.1)\n",
    "            sel=scrn[962:1056,836:958]\n",
    "            pos=np.where(sel==[217,  38,  38])\n",
    "            [row,col]=[np.mean(pos[0])/hi,np.mean(pos[1])/wi]\n",
    "            \n",
    "            if col>4:\n",
    "                col-=4\n",
    "                row+=1\n",
    "            else:\n",
    "                col+=1\n",
    "            pyautogui.click(int(836+wi*col),int(962+hi*row))\n",
    "            break\n",
    "        except:\n",
    "            time.sleep(0.1)\n",
    "    if oldrow==row and oldcol==col:\n",
    "        break\n",
    "    [oldrow,oldcol]=[row,col]\n",
    "    time.sleep(0.1)\n",
    "    pyautogui.click(1317,1055)\n",
    "    while np.array_equal(np.asarray(pyautogui.screenshot())[1000:1056,836:958],save)==False:\n",
    "        time.sleep(0.1)\n",
    "    pyautogui.click(896,1021)\n",
    "    time.sleep(0.1)\n",
    "    pyautogui.click(1321,1021)"
   ]
  }
 ],
 "metadata": {
  "kernelspec": {
   "display_name": "Python 3",
   "language": "python",
   "name": "python3"
  },
  "language_info": {
   "codemirror_mode": {
    "name": "ipython",
    "version": 3
   },
   "file_extension": ".py",
   "mimetype": "text/x-python",
   "name": "python",
   "nbconvert_exporter": "python",
   "pygments_lexer": "ipython3",
   "version": "3.9.13"
  }
 },
 "nbformat": 4,
 "nbformat_minor": 2
}
