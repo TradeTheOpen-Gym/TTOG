{
 "cells": [
  {
   "cell_type": "code",
   "execution_count": null,
   "metadata": {},
   "outputs": [],
   "source": [
    "import numpy as np\n",
    "import pandas as pd\n",
    "import matplotlib.pyplot as plt\n",
    "from mplfinance.original_flavor import candlestick_ohlc\n",
    "try:\n",
    "    imp = pd.read_csv(\"results.tx\", header=None).values\n",
    "    pos = np.where(imp[:, -1] == \"O\")[0]+1\n",
    "    pos = np.insert(pos, 0, 0)\n",
    "    his = imp[:, 1] - imp[:, 0]\n",
    "    los = imp[:, 2] - imp[:, 0]\n",
    "    cls = imp[:, 3] - imp[:, 0]\n",
    "    tb = np.zeros((len(pos) , 4))\n",
    "    for i in range(0, len(pos)-1):\n",
    "        if i > 0:\n",
    "            tb[i, 0] = tb[i-1, 3]\n",
    "        tb[i, 1] = tb[i, 0] + 100 * np.sum(his[pos[i] :pos[i+1]])\n",
    "        tb[i, 2] = tb[i, 0] + 100 * np.sum(los[pos[i] :pos[i+1]])\n",
    "        tb[i, 3] = tb[i, 0] + 100 * np.sum(cls[pos[i] :pos[i+1]])\n",
    "    tb_df = pd.DataFrame(tb, columns=['Open', 'High', 'Low', 'Close'])\n",
    "    res = tb_df['Close'] - tb_df['Open']\n",
    "    win = res[res > 0]\n",
    "    los = res[res < 0]\n",
    "    num_trades = len(res)\n",
    "    win_prob = len(win) / num_trades if num_trades > 0 else 0\n",
    "    los_prob = len(los) / num_trades if num_trades > 0 else 0\n",
    "    win_mean = win.mean() if len(win) > 0 else 0\n",
    "    los_mean = los.mean() if len(los) > 0 else 0\n",
    "    win_loss_ratio = -win_mean / los_mean if los_mean != 0 else float('inf')\n",
    "    expectation = win_mean * win_prob + los_mean*los_prob\n",
    "    fig, ax = plt.subplots(figsize=(10, 5))\n",
    "    candlestick_ohlc(ax, tb_df.reset_index().values, width=0.6, colorup='green', colordown='red')\n",
    "    ax.xaxis.set_major_locator(plt.MaxNLocator(integer=True, prune='both'))\n",
    "    ax.set_xlabel('Trade Count')\n",
    "    ax.set_ylabel('Profit and Loss')\n",
    "    ax.set_title('Performance Chart')\n",
    "    sign='+'\n",
    "    if expectation<0: sign='-'\n",
    "    stats_text = (\n",
    "        f\"Number of trades:     {num_trades}\\n\"\n",
    "        f\"Win probability:         {100*win_prob:.2f}%\\n\"\n",
    "        f\"Loss probability:        {100*los_prob:.2f}%\\n\"\n",
    "        f\"Average Win:        +${win_mean:.2f}\\n\"\n",
    "        f\"Average Loss:        - ${-los_mean:.2f}\\n\"\n",
    "        f\"Win/Loss ratio:           {win_loss_ratio:.2f}\\n\"\n",
    "        f\"Expect per trade:   {sign}${np.abs(expectation):.2f}\"\n",
    "    )\n",
    "    props = dict(boxstyle='round', facecolor='wheat', alpha=0.5)\n",
    "    ax.text(1.02, 1.00, stats_text, transform=ax.transAxes, fontsize=12,\n",
    "            verticalalignment='top', bbox=props)\n",
    "    plt.show()\n",
    "except:\n",
    "    print(\"Error loading results file.\")"
   ]
  }
 ],
 "metadata": {
  "kernelspec": {
   "display_name": "Python 3",
   "language": "python",
   "name": "python3"
  },
  "language_info": {
   "codemirror_mode": {
    "name": "ipython",
    "version": 3
   },
   "file_extension": ".py",
   "mimetype": "text/x-python",
   "name": "python",
   "nbconvert_exporter": "python",
   "pygments_lexer": "ipython3",
   "version": "3.9.13"
  }
 },
 "nbformat": 4,
 "nbformat_minor": 2
}
