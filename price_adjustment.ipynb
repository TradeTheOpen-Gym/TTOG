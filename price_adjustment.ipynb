{
 "cells": [
  {
   "cell_type": "code",
   "execution_count": 1,
   "metadata": {},
   "outputs": [],
   "source": [
    "# Example file names, adjust appropriately\n",
    "price_file='TQQQ_yahoo.csv'\n",
    "split_file='TQQQ_splits.csv'"
   ]
  },
  {
   "cell_type": "code",
   "execution_count": 156,
   "metadata": {},
   "outputs": [],
   "source": [
    "import numpy as np\n",
    "import pandas as pd\n",
    "import os\n",
    "# load daily yahoo price data and split history\n",
    "yahoo_target=pd.read_csv(price_file)\n",
    "yahoo_splits=pd.read_csv(split_file)\n",
    "# scale daily price data back to original based on split history\n",
    "yahoo_target['Date']=pd.to_datetime(yahoo_target['Date'])\n",
    "yahoo_splits['Date']=pd.to_datetime(yahoo_splits['Date'])\n",
    "multiples=np.array([1])\n",
    "if len(yahoo_splits)>0:\n",
    "    yahoo_splits=yahoo_splits.sort_values('Date',ascending=False)\n",
    "    def multiplier(x):\n",
    "        tmp=x.split(':')\n",
    "        return int(tmp[0])/int(tmp[1])\n",
    "    multiples=np.concatenate((multiples,yahoo_splits['Stock Splits'].apply(multiplier).values))\n",
    "    factor=1\n",
    "    for i in range(len(multiples)):\n",
    "        multiples[i]*=factor\n",
    "        factor=multiples[i]\n",
    "split_dates=yahoo_splits['Date'].values\n",
    "def scale_back(date):\n",
    "    for i in range(len(split_dates)):\n",
    "        if date>split_dates[i]:\n",
    "            return multiples[i]\n",
    "    return multiples[-1]\n",
    "v_scale_back=np.vectorize(scale_back)\n",
    "scales=v_scale_back(yahoo_target['Date'])\n",
    "for c in ['Open','High','Low','Close','Adj Close']:\n",
    "    yahoo_target[c]=yahoo_target[c]*scales\n",
    "# scale all prices\n",
    "def time_transform(t):\n",
    "    dt=t.split(' ')[0].split('.')\n",
    "    return dt[2]+'-'+dt[1]+'-'+dt[0]\n",
    "files=os.listdir(price_file.split('_')[0])\n",
    "for i in range(len(files)):\n",
    "    print('                                        ',end='\\r')\n",
    "    print(i,'/',len(files),end='\\r')\n",
    "    dat=pd.read_csv(price_file.split('_')[0]+\"//\"+files[i])\n",
    "    tmp=np.asarray(dat['Ask'].astype(float)+dat['Bid'].astype(float))/2\n",
    "    OHLC=np.asarray([tmp[0],np.max(tmp),np.min(tmp),tmp[-1]])\n",
    "    target_OHLC=yahoo_target.iloc[np.where(yahoo_target['Date']==pd.to_datetime(dat['Local time'].apply(time_transform)).values[0])[0][0]].values[1:5].astype(float)\n",
    "    m,b = np.polyfit(OHLC, target_OHLC, 1)\n",
    "    dat['Ask']=np.round(dat['Ask'].astype(float)*m+b,2)\n",
    "    dat['Bid']=np.round(dat['Bid'].astype(float)*m+b,2)\n",
    "    dat.to_csv(price_file.split('_')[0]+\"//\"+files[i],index=False)"
   ]
  }
 ],
 "metadata": {
  "kernelspec": {
   "display_name": "Python 3",
   "language": "python",
   "name": "python3"
  },
  "language_info": {
   "codemirror_mode": {
    "name": "ipython",
    "version": 3
   },
   "file_extension": ".py",
   "mimetype": "text/x-python",
   "name": "python",
   "nbconvert_exporter": "python",
   "pygments_lexer": "ipython3",
   "version": "3.9.13"
  }
 },
 "nbformat": 4,
 "nbformat_minor": 2
}
