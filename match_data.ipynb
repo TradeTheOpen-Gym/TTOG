{
 "cells": [
  {
   "cell_type": "code",
   "execution_count": 1,
   "metadata": {},
   "outputs": [],
   "source": [
    "# example symbols, replace with your selection\n",
    "symbols=['SPY','QQQ']"
   ]
  },
  {
   "cell_type": "code",
   "execution_count": 5,
   "metadata": {},
   "outputs": [
    {
     "name": "stdout",
     "output_type": "stream",
     "text": [
      "Symbol SPY is missing the dates:\n",
      " [] \n",
      "\n",
      "Symbol QQQ is missing the dates:\n",
      " [] \n",
      "\n"
     ]
    }
   ],
   "source": [
    "import os\n",
    "import pandas as pd\n",
    "dates=[]\n",
    "alldates=set()\n",
    "def us_date(x):\n",
    "    dts=x.split('.')\n",
    "    return dts[2]+\"/\"+dts[1]+\"/\"+dts[0]\n",
    "for s in symbols:\n",
    "    tmp=pd.Series(os.listdir(s))\n",
    "    for f in tmp:\n",
    "        if \"(\" in f:\n",
    "            os.remove(s+\"\\\\\"+f)\n",
    "    tmp=pd.Series(os.listdir(s))\n",
    "    dates.append(tmp.apply(lambda x: us_date(x.split('-')[0].split('_')[2])))\n",
    "    alldates=alldates.union(dates[-1])\n",
    "alldates=pd.Series(list(alldates))\n",
    "for i in range(len(symbols)):\n",
    "    tmp=alldates[~alldates.isin(dates[i])]\n",
    "    print(\"Symbol \"+symbols[i]+\" is missing the dates:\\n\",tmp.sort_values().values,'\\n')"
   ]
  }
 ],
 "metadata": {
  "kernelspec": {
   "display_name": "Python 3",
   "language": "python",
   "name": "python3"
  },
  "language_info": {
   "codemirror_mode": {
    "name": "ipython",
    "version": 3
   },
   "file_extension": ".py",
   "mimetype": "text/x-python",
   "name": "python",
   "nbconvert_exporter": "python",
   "pygments_lexer": "ipython3",
   "version": "3.11.2"
  },
  "vscode": {
   "interpreter": {
    "hash": "2b662f60b7c23508207e5f54fe5cf7477133fc98b6c545c584115dbfc1b0951b"
   }
  }
 },
 "nbformat": 4,
 "nbformat_minor": 2
}
